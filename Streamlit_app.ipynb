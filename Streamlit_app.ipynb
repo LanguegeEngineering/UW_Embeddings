{
  "nbformat": 4,
  "nbformat_minor": 0,
  "metadata": {
    "colab": {
      "provenance": []
    },
    "kernelspec": {
      "name": "python3",
      "display_name": "Python 3"
    }
  },
  "cells": [
    {
      "cell_type": "markdown",
      "metadata": {
        "id": "vWmc_s2ezvU0"
      },
      "source": [
        "# Run streamlit bias app from a Google Colab Notebook\n",
        "> For streamlit created by [Manuel Romero](https://twitter.com/mrm8488)"
      ]
    },
    {
      "cell_type": "code",
      "metadata": {
        "id": "RvlYkCQ9vFiy",
        "colab": {
          "base_uri": "https://localhost:8080/"
        },
        "outputId": "1a22aaee-b5bc-44c7-b089-442c24fc73b7"
      },
      "source": [
        "!pip install -q streamlit\n",
        "!pip install -q transformers\n",
        "!pip install -q tensorflow\n",
        "!pip install -q plotly\n",
        "!pip install -q pandas"
      ],
      "execution_count": 1,
      "outputs": [
        {
          "output_type": "stream",
          "name": "stdout",
          "text": [
            "\u001b[2K     \u001b[90m━━━━━━━━━━━━━━━━━━━━━━━━━━━━━━━━━━━━━━━━\u001b[0m \u001b[32m8.1/8.1 MB\u001b[0m \u001b[31m17.8 MB/s\u001b[0m eta \u001b[36m0:00:00\u001b[0m\n",
            "\u001b[2K     \u001b[90m━━━━━━━━━━━━━━━━━━━━━━━━━━━━━━━━━━━━━━━━\u001b[0m \u001b[32m53.0/53.0 kB\u001b[0m \u001b[31m2.8 MB/s\u001b[0m eta \u001b[36m0:00:00\u001b[0m\n",
            "\u001b[2K     \u001b[90m━━━━━━━━━━━━━━━━━━━━━━━━━━━━━━━━━━━━━━━━\u001b[0m \u001b[32m195.4/195.4 kB\u001b[0m \u001b[31m3.1 MB/s\u001b[0m eta \u001b[36m0:00:00\u001b[0m\n",
            "\u001b[2K     \u001b[90m━━━━━━━━━━━━━━━━━━━━━━━━━━━━━━━━━━━━━━━━\u001b[0m \u001b[32m4.8/4.8 MB\u001b[0m \u001b[31m22.5 MB/s\u001b[0m eta \u001b[36m0:00:00\u001b[0m\n",
            "\u001b[2K     \u001b[90m━━━━━━━━━━━━━━━━━━━━━━━━━━━━━━━━━━━━━━━━\u001b[0m \u001b[32m83.0/83.0 kB\u001b[0m \u001b[31m2.6 MB/s\u001b[0m eta \u001b[36m0:00:00\u001b[0m\n",
            "\u001b[2K     \u001b[90m━━━━━━━━━━━━━━━━━━━━━━━━━━━━━━━━━━━━━━━━\u001b[0m \u001b[32m62.7/62.7 kB\u001b[0m \u001b[31m2.3 MB/s\u001b[0m eta \u001b[36m0:00:00\u001b[0m\n",
            "\u001b[?25h"
          ]
        }
      ]
    },
    {
      "cell_type": "code",
      "source": [],
      "metadata": {
        "id": "an2C3c_0Ooi9"
      },
      "execution_count": null,
      "outputs": []
    },
    {
      "cell_type": "markdown",
      "metadata": {
        "id": "waCfwniZOow8"
      },
      "source": [
        "## Create a streamlit app example\n"
      ]
    },
    {
      "cell_type": "code",
      "source": [
        "%%writefile app.py\n",
        "import json\n",
        "import re\n",
        "import urllib\n",
        "\n",
        "import pandas as pd\n",
        "import streamlit as st\n",
        "from transformers import pipeline\n",
        "\n",
        "st.set_page_config(layout=\"centered\", page_icon=\"🗺️\", page_title=\"Bias city\")\n",
        "\n",
        "\n",
        "@st.cache_data\n",
        "def get_cities_list():\n",
        "    return ['Warszawa', 'Gdynia', 'Gdańsk', 'Kraków', 'Wrocław', 'Poznań', 'Łódź', 'Szczecin', 'Bydgoszcz', 'Lublin']\n",
        "\n",
        "\n",
        "@st.cache_resource\n",
        "def get_classifier():\n",
        "    return pipeline(\"sentiment-analysis\", model=\"bardsai/twitter-sentiment-pl-base\")\n",
        "\n",
        "\n",
        "@st.cache_data(show_spinner=False)\n",
        "def predict(reviews):\n",
        "    return classifier(reviews)\n",
        "\n",
        "\n",
        "def result_to_positive_class_probability(result):\n",
        "        return result[\"score\"] if result[\"label\"] == \"POSITIVE\" or result[\"label\"] == 'positive' else 1 - result[\"score\"]\n",
        "\n",
        "cities = get_cities_list()\n",
        "classifier = get_classifier()\n",
        "st.title(\"🗺️ Bias miast\")\n",
        "st.caption(\"\"\"Inspired by this [tweet](https://twitter.com/aureliengeron/status/1505402534407524353?s=21) from Aurélien Geron and\n",
        "the code available in this [Colab](https://colab.research.google.com/gist/ageron/fb2f64fb145b4bc7c49efc97e5f114d3/biasmap.ipynb#scrollTo=ac6a454f)\"\"\")\n",
        "st.write(\"\"\"Discover whether [Twitter Sentiment PL](https://huggingface.co/bardsai/twitter-sentiment-pl-base) is biased towards certain cities!\n",
        "Simply input a sentence which would countain a city name (using `*` as a country placeholder), and we will look at\n",
        "how the model predictions vary for all possible countries.\"\"\")\n",
        "\n",
        "text_input = st.text_input(\n",
        "    label=\"Type in a sentence. Use * as a country placeholder\", value=\"Miasto w którym mieszkam to *\"\n",
        ")\n",
        "\n",
        "st.write(\"---\")\n",
        "\n",
        "if \"*\" not in text_input:\n",
        "    st.error(\"Your input sentence must contain a `*` which will be used as the country placeholder.\")\n",
        "    st.stop()\n",
        "\n",
        "if text_input:\n",
        "    st.caption(\"Output:\")\n",
        "\n",
        "    st.write(f\"\"\"Bias map for input: _\"{text_input}\"_:\"\"\")\n",
        "    with st.spinner(\"Computing probabilities...\"):\n",
        "        reviews = []\n",
        "        city_names = []\n",
        "        for city in cities:\n",
        "            city_names.append(city)\n",
        "            reviews.append(text_input.replace(\"*\", city))\n",
        "\n",
        "        results = predict(reviews)\n",
        "        probas = map(result_to_positive_class_probability, results)\n",
        "\n",
        "        cities_df = pd.DataFrame(\n",
        "            {\"Country\": city_names, \"Positive class probability\": probas}\n",
        "        )\n",
        "\n",
        "        st.write(\"Data (sorted by ascending 'positive'-ness probability):\")\n",
        "        st.dataframe(cities_df.sort_values(by=\"Positive class probability\", ascending=True), height=350,)"
      ],
      "metadata": {
        "id": "meJ36PefNftd",
        "colab": {
          "base_uri": "https://localhost:8080/"
        },
        "outputId": "6eb13fc0-f0a2-47e7-c98a-35088afc5389"
      },
      "execution_count": 3,
      "outputs": [
        {
          "output_type": "stream",
          "name": "stdout",
          "text": [
            "Overwriting app.py\n"
          ]
        }
      ]
    },
    {
      "cell_type": "markdown",
      "metadata": {
        "id": "xZlEJkmSOoxC"
      },
      "source": [
        "## Install localtunnel"
      ]
    },
    {
      "cell_type": "code",
      "metadata": {
        "colab": {
          "base_uri": "https://localhost:8080/"
        },
        "outputId": "13619ebd-30d3-4eb1-9684-0bc642f24566",
        "id": "ZAyqQCQVOoxC"
      },
      "source": [
        "!npm install localtunnel"
      ],
      "execution_count": 4,
      "outputs": [
        {
          "output_type": "stream",
          "name": "stdout",
          "text": [
            "\u001b[K\u001b[?25h\u001b[37;40mnpm\u001b[0m \u001b[0m\u001b[30;43mWARN\u001b[0m \u001b[0m\u001b[35msaveError\u001b[0m ENOENT: no such file or directory, open '/content/package.json'\n",
            "\u001b[0m\u001b[37;40mnpm\u001b[0m \u001b[0m\u001b[34;40mnotice\u001b[0m\u001b[35m\u001b[0m created a lockfile as package-lock.json. You should commit this file.\n",
            "\u001b[0m\u001b[37;40mnpm\u001b[0m \u001b[0m\u001b[30;43mWARN\u001b[0m \u001b[0m\u001b[35menoent\u001b[0m ENOENT: no such file or directory, open '/content/package.json'\n",
            "\u001b[0m\u001b[37;40mnpm\u001b[0m \u001b[0m\u001b[30;43mWARN\u001b[0m\u001b[35m\u001b[0m content No description\n",
            "\u001b[0m\u001b[37;40mnpm\u001b[0m \u001b[0m\u001b[30;43mWARN\u001b[0m\u001b[35m\u001b[0m content No repository field.\n",
            "\u001b[0m\u001b[37;40mnpm\u001b[0m \u001b[0m\u001b[30;43mWARN\u001b[0m\u001b[35m\u001b[0m content No README data\n",
            "\u001b[0m\u001b[37;40mnpm\u001b[0m \u001b[0m\u001b[30;43mWARN\u001b[0m\u001b[35m\u001b[0m content No license field.\n",
            "\u001b[0m\n",
            "+ localtunnel@2.0.2\n",
            "added 22 packages from 22 contributors and audited 22 packages in 3.067s\n",
            "\n",
            "3 packages are looking for funding\n",
            "  run `npm fund` for details\n",
            "\n",
            "found 1 \u001b[93mmoderate\u001b[0m severity vulnerability\n",
            "  run `npm audit fix` to fix them, or `npm audit` for details\n",
            "\u001b[K\u001b[?25h"
          ]
        }
      ]
    },
    {
      "cell_type": "markdown",
      "source": [
        "## Run streamlit in background"
      ],
      "metadata": {
        "id": "kccYE2lkN20y"
      }
    },
    {
      "cell_type": "code",
      "source": [
        "!streamlit run /content/app.py &>/content/logs.txt &"
      ],
      "metadata": {
        "id": "Zv912rRAN0fs"
      },
      "execution_count": 5,
      "outputs": []
    },
    {
      "cell_type": "markdown",
      "source": [
        "## Expose the port 8501\n",
        "Then just click in the `url` showed.\n",
        "\n",
        "A `log.txt`file will be created."
      ],
      "metadata": {
        "id": "h_KW9juhOCuH"
      }
    },
    {
      "cell_type": "code",
      "source": [
        "!wget -q -O - ipv4.icanhazip.com"
      ],
      "metadata": {
        "id": "kmekyUt3D6GJ",
        "colab": {
          "base_uri": "https://localhost:8080/"
        },
        "outputId": "fbee2de1-6b62-4e84-d672-6d226ac9628d"
      },
      "execution_count": 6,
      "outputs": [
        {
          "output_type": "stream",
          "name": "stdout",
          "text": [
            "34.73.217.169\n"
          ]
        }
      ]
    },
    {
      "cell_type": "code",
      "source": [
        "!npx localtunnel --port 8501"
      ],
      "metadata": {
        "id": "XTGAizLhOIgC",
        "outputId": "c0171b4c-f82d-436b-a7f4-45183e42d9e1",
        "colab": {
          "base_uri": "https://localhost:8080/"
        }
      },
      "execution_count": null,
      "outputs": [
        {
          "output_type": "stream",
          "name": "stdout",
          "text": [
            "\u001b[K\u001b[?25hnpx: installed 22 in 1.705s\n",
            "your url is: https://new-cows-pull.loca.lt\n"
          ]
        }
      ]
    }
  ]
}