{
  "nbformat": 4,
  "nbformat_minor": 0,
  "metadata": {
    "colab": {
      "provenance": []
    },
    "kernelspec": {
      "name": "python3",
      "display_name": "Python 3"
    }
  },
  "cells": [
    {
      "cell_type": "markdown",
      "metadata": {
        "id": "NfGytFjGeUJb"
      },
      "source": [
        "### Moduły\n",
        "Importujemy biblioteki"
      ]
    },
    {
      "cell_type": "code",
      "metadata": {
        "id": "RU4ul5RpcwSp"
      },
      "source": [
        "from keras.preprocessing.text import one_hot\n",
        "from keras.preprocessing.sequence import pad_sequences\n",
        "from keras.models import Sequential\n",
        "from keras.layers import Dense\n",
        "from keras.layers import Flatten\n",
        "from keras.layers import Embedding\n",
        "from keras.utils import to_categorical\n",
        "from keras.preprocessing.text import Tokenizer\n",
        "from sklearn.decomposition import PCA\n",
        "from matplotlib import pyplot\n",
        "import numpy as np"
      ],
      "execution_count": 11,
      "outputs": []
    },
    {
      "cell_type": "markdown",
      "metadata": {
        "id": "-6YLp3_Vehce"
      },
      "source": [
        "### Dane\n",
        "Tworzymy przykładowe dane:"
      ]
    },
    {
      "cell_type": "code",
      "metadata": {
        "id": "sB6GSXgdeXyV"
      },
      "source": [
        "docs = ['fantasticly done!',\n",
        "\t\t'Good work',\n",
        "\t\t'Great effort',\n",
        "\t\t'nice work',\n",
        "\t\t'Excellent!',\n",
        "\t\t'Weak',\n",
        "\t\t'Poor effort!',\n",
        "\t\t'not good',\n",
        "\t\t'poor work',\n",
        "\t\t'Could have done better.']\n",
        "\n",
        "labels = np.array([[1.],[1.],[1.],[1.],[1.],[0.],[0.],[0.],[0.],[0.]])\n"
      ],
      "execution_count": 12,
      "outputs": []
    },
    {
      "cell_type": "markdown",
      "source": [
        "### Embeddingi"
      ],
      "metadata": {
        "id": "ldH3LWF4ujmJ"
      }
    },
    {
      "cell_type": "markdown",
      "metadata": {
        "id": "xSSFxqWWexm9"
      },
      "source": [
        "Zamieniemy słowa na losowo wybrane liczby w zakresie do 100"
      ]
    },
    {
      "cell_type": "code",
      "metadata": {
        "id": "AHq-50d6e4HU",
        "colab": {
          "base_uri": "https://localhost:8080/"
        },
        "outputId": "2d7ca58d-4a5b-4736-eb2f-57be4643938d"
      },
      "source": [
        "vocab_size = 100\n",
        "encoded_docs = [one_hot(d, vocab_size) for d in docs]\n",
        "print(encoded_docs)\n"
      ],
      "execution_count": 13,
      "outputs": [
        {
          "output_type": "stream",
          "name": "stdout",
          "text": [
            "[[18, 51], [82, 69], [39, 34], [68, 69], [93], [95], [93, 34], [17, 82], [93, 69], [5, 26, 51, 61]]\n"
          ]
        }
      ]
    },
    {
      "cell_type": "markdown",
      "metadata": {
        "id": "lTJpXpClfbQQ"
      },
      "source": [
        "Wyrównujemy wejście, żeby wszystkie były takie same:"
      ]
    },
    {
      "cell_type": "code",
      "metadata": {
        "id": "Uh7Ptn94fukD",
        "colab": {
          "base_uri": "https://localhost:8080/"
        },
        "outputId": "0a93f52b-eb3e-452e-db56-c3268a3751f5"
      },
      "source": [
        "max_length = 4\n",
        "padded_docs = pad_sequences(encoded_docs, maxlen=max_length, padding='post')\n",
        "print(padded_docs)"
      ],
      "execution_count": 14,
      "outputs": [
        {
          "output_type": "stream",
          "name": "stdout",
          "text": [
            "[[18 51  0  0]\n",
            " [82 69  0  0]\n",
            " [39 34  0  0]\n",
            " [68 69  0  0]\n",
            " [93  0  0  0]\n",
            " [95  0  0  0]\n",
            " [93 34  0  0]\n",
            " [17 82  0  0]\n",
            " [93 69  0  0]\n",
            " [ 5 26 51 61]]\n"
          ]
        }
      ]
    },
    {
      "cell_type": "markdown",
      "metadata": {
        "id": "qtP36m3VfyQ8"
      },
      "source": [
        "Definiujemy model:"
      ]
    },
    {
      "cell_type": "code",
      "metadata": {
        "id": "JiSVEzzBe73I",
        "colab": {
          "base_uri": "https://localhost:8080/"
        },
        "outputId": "46820b9c-aefe-4f84-c346-d0fd78704b7c"
      },
      "source": [
        "model = Sequential()\n",
        "model.add(Embedding(vocab_size, 8, input_length=max_length))\n",
        "model.add(Flatten())\n",
        "model.add(Dense(1, activation='sigmoid'))\n",
        "\n",
        "model.compile(optimizer='adam', loss='binary_crossentropy', metrics=['acc'])\n",
        "\n",
        "print(model.summary())"
      ],
      "execution_count": 15,
      "outputs": [
        {
          "output_type": "stream",
          "name": "stdout",
          "text": [
            "Model: \"sequential_2\"\n",
            "_________________________________________________________________\n",
            " Layer (type)                Output Shape              Param #   \n",
            "=================================================================\n",
            " embedding_2 (Embedding)     (None, 4, 8)              800       \n",
            "                                                                 \n",
            " flatten_2 (Flatten)         (None, 32)                0         \n",
            "                                                                 \n",
            " dense_2 (Dense)             (None, 1)                 33        \n",
            "                                                                 \n",
            "=================================================================\n",
            "Total params: 833 (3.25 KB)\n",
            "Trainable params: 833 (3.25 KB)\n",
            "Non-trainable params: 0 (0.00 Byte)\n",
            "_________________________________________________________________\n",
            "None\n"
          ]
        }
      ]
    },
    {
      "cell_type": "markdown",
      "metadata": {
        "id": "xRczU455gA-9"
      },
      "source": [
        "Trenujemy i oceniamy model:"
      ]
    },
    {
      "cell_type": "code",
      "metadata": {
        "id": "L5SE0GjKfoM4",
        "colab": {
          "base_uri": "https://localhost:8080/"
        },
        "outputId": "cba21ba3-726f-4404-9b78-65e6ccea9c1b"
      },
      "source": [
        "model.fit(padded_docs, labels, epochs=3, verbose=1)\n",
        "\n",
        "loss, accuracy = model.evaluate(padded_docs, labels, verbose=1)\n",
        "print('Accuracy: %f' % (accuracy*100))"
      ],
      "execution_count": 16,
      "outputs": [
        {
          "output_type": "stream",
          "name": "stdout",
          "text": [
            "Epoch 1/3\n",
            "1/1 [==============================] - 1s 940ms/step - loss: 0.6945 - acc: 0.5000\n",
            "Epoch 2/3\n",
            "1/1 [==============================] - 0s 18ms/step - loss: 0.6933 - acc: 0.5000\n",
            "Epoch 3/3\n",
            "1/1 [==============================] - 0s 12ms/step - loss: 0.6921 - acc: 0.5000\n",
            "1/1 [==============================] - 0s 176ms/step - loss: 0.6909 - acc: 0.6000\n",
            "Accuracy: 60.000002\n"
          ]
        }
      ]
    },
    {
      "cell_type": "markdown",
      "metadata": {
        "id": "xt2IZnjkhEoe"
      },
      "source": [
        "Prezentujemy embeddingsy na wykresie:"
      ]
    },
    {
      "cell_type": "code",
      "metadata": {
        "id": "iGsEa2TzhDhq",
        "colab": {
          "base_uri": "https://localhost:8080/",
          "height": 449
        },
        "outputId": "122ea173-b298-475e-ce87-f9d8eba59b39"
      },
      "source": [
        "words = ['good','great','nice','excellent','weak','poor']\n",
        "encoded_word = [one_hot(d, vocab_size) for d in words]\n",
        "\n",
        "line = to_categorical(encoded_word, num_classes=vocab_size)\n",
        "\n",
        "\n",
        "weights = model.layers[0].get_weights()[0]\n",
        "\n",
        "print(weights.shape)\n",
        "\n",
        "emb_words = np.dot(line, weights)\n",
        "\n",
        "\n",
        "pca = PCA(n_components=2)\n",
        "result = pca.fit_transform(emb_words)\n",
        "\n",
        "pyplot.scatter(result[:, 0], result[:, 1])\n",
        "\n",
        "for i, word in enumerate(words):\n",
        "\tpyplot.annotate(word, xy=(result[i, 0], result[i, 1]))\n",
        "pyplot.show()\n"
      ],
      "execution_count": 17,
      "outputs": [
        {
          "output_type": "stream",
          "name": "stdout",
          "text": [
            "(100, 8)\n"
          ]
        },
        {
          "output_type": "display_data",
          "data": {
            "text/plain": [
              "<Figure size 640x480 with 1 Axes>"
            ],
            "image/png": "[encoded data removed]"
          },
          "metadata": {}
        }
      ]
    },
    {
      "cell_type": "markdown",
      "source": [
        "### Zadania\n",
        "\n",
        "* Spróbować napisać własne teksty i labelki do nich (binarne) - sprawdzić jak działają embeddingi\n",
        "* Spróbować napisać własne teksty i labelki do nich (więcej niż dwie) - sprawdzić jak działają embeddingi"
      ],
      "metadata": {
        "id": "Bo5O-en2uCGs"
      }
    },
    {
      "cell_type": "code",
      "source": [],
      "metadata": {
        "id": "In3L2d5bizc9"
      },
      "execution_count": 7,
      "outputs": []
    }
  ]
}